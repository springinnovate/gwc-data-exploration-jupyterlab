{
 "cells": [
  {
   "cell_type": "code",
   "execution_count": 1,
   "id": "d5868de9-a362-46d0-a960-d356b5d2dd81",
   "metadata": {},
   "outputs": [],
   "source": [
    "import xarray as xr"
   ]
  },
  {
   "cell_type": "code",
   "execution_count": 7,
   "id": "fff03d06-9d7d-4c58-bbda-1a210d4726a9",
   "metadata": {},
   "outputs": [],
   "source": [
    "thredds_server_prefix = 'http://h2o-dev.aer-aws-nonprod.net/thredds/'\n",
    "gdm_suffix = \"dodsC/gwsc/gdm\"\n",
    "temp_precip_suffix = \"dodsC/era5/daily-summary.nc\"\n",
    "wsim_hotspot_suffix = \"dodsC/wsim/hotspot-1mo.nc\"\n",
    "ndvi_anomaly_suffix = \"dodsC/gimms/ndvi_anom.nc\""
   ]
  },
  {
   "cell_type": "code",
   "execution_count": 11,
   "id": "17f18945-3e8a-400a-9f78-ebac6fa3c2ef",
   "metadata": {},
   "outputs": [
    {
     "name": "stdout",
     "output_type": "stream",
     "text": [
      "<xarray.Dataset>\n",
      "Dimensions:     (latitude: 721, longitude: 1440, time: 644)\n",
      "Coordinates:\n",
      "  * latitude    (latitude) float32 90.0 89.75 89.5 89.25 ... -89.5 -89.75 -90.0\n",
      "  * longitude   (longitude) float32 0.0 0.25 0.5 0.75 ... 359.2 359.5 359.8\n",
      "  * time        (time) |S64 b'2021-01-21T00:00:00Z' ... b'2022-10-26T00:00:00Z'\n",
      "Data variables:\n",
      "    mean_t2m_c  (time, latitude, longitude) float32 ...\n",
      "    sum_tp_mm   (time, latitude, longitude) float32 ...\n",
      "    min_t2m_c   (time, latitude, longitude) float32 ...\n",
      "    max_t2m_c   (time, latitude, longitude) float32 ...\n"
     ]
    }
   ],
   "source": [
    "dataset_url = thredds_server_prefix + temp_precip_suffix\n",
    "ds = xr.open_dataset(dataset_url)\n",
    "print(ds)"
   ]
  }
 ],
 "metadata": {
  "kernelspec": {
   "display_name": "Python [conda env:notebook] *",
   "language": "python",
   "name": "conda-env-notebook-py"
  },
  "language_info": {
   "codemirror_mode": {
    "name": "ipython",
    "version": 3
   },
   "file_extension": ".py",
   "mimetype": "text/x-python",
   "name": "python",
   "nbconvert_exporter": "python",
   "pygments_lexer": "ipython3",
   "version": "3.9.13"
  }
 },
 "nbformat": 4,
 "nbformat_minor": 5
}
